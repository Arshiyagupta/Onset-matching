{
 "cells": [
  {
   "cell_type": "code",
   "execution_count": 72,
   "metadata": {},
   "outputs": [],
   "source": [
    "import madmom\n",
    "import librosa\n",
    "#import pyrubberband\n",
    "from IPython import display\n",
    "import numpy as np\n",
    "import soundfile"
   ]
  },
  {
   "cell_type": "code",
   "execution_count": 73,
   "metadata": {},
   "outputs": [],
   "source": [
    "def repeat_track(src_file, tgt_file, n_repeats):\n",
    "    y, sr = librosa.load(src_file)\n",
    "    y = np.concatenate([y] * n_repeats)\n",
    "    soundfile.write(tgt_file, y, sr)"
   ]
  },
  {
   "cell_type": "code",
   "execution_count": 74,
   "metadata": {},
   "outputs": [],
   "source": [
    "repeat_track('drum_track3.wav', 'drum_track3_long.wav', 20)"
   ]
  },
  {
   "cell_type": "code",
   "execution_count": 79,
   "metadata": {},
   "outputs": [],
   "source": [
    "CELLO_TRACK = 'cello_track.wav'\n",
    "# DRUM_TRACK = 'drum_track3_long.wav'\n",
    "DRUM_TRACK = 'beatbox.wav'"
   ]
  },
  {
   "cell_type": "code",
   "execution_count": 76,
   "metadata": {},
   "outputs": [],
   "source": [
    "y_cello, sr_cello = librosa.load(CELLO_TRACK)"
   ]
  },
  {
   "cell_type": "code",
   "execution_count": 80,
   "metadata": {},
   "outputs": [],
   "source": [
    "y_drum, sr_drum = librosa.load(DRUM_TRACK)\n",
    "y_drum_short = None"
   ]
  },
  {
   "cell_type": "code",
   "execution_count": 61,
   "metadata": {},
   "outputs": [],
   "source": [
    "# n_repeats = 80\n",
    "# n_bars_short = 6\n",
    "# n_bars = n_bars_short * n_repeats\n",
    "# y_drum = np.concatenate([y_drum] * n_repeats)\n",
    "# drum_bar_length = len(y_drum) / (n_bars) / sr_drum\n",
    "# downbeats_drum_all = np.array([i * drum_bar_length for i in range(n_bars)])"
   ]
  },
  {
   "cell_type": "code",
   "execution_count": 142,
   "metadata": {},
   "outputs": [],
   "source": [
    "# with open('madmom_out/cello.downbeats') as f:\n",
    "#     downbeats_cello = [float(x) for x in f]\n",
    "# with open('madmom_out/beatbox.downbeats') as f:\n",
    "#     downbeats_drum = [float(x) for x in f]\n",
    "# downbeats_cello = downbeats_cello[:len(downbeats_drum)]"
   ]
  },
  {
   "cell_type": "code",
   "execution_count": 62,
   "metadata": {
    "scrolled": true
   },
   "outputs": [],
   "source": [
    "def get_downbeats(filename):\n",
    "    in_processor = madmom.features.downbeats.RNNDownBeatProcessor()\n",
    "    out_processor = madmom.features.downbeats.DBNDownBeatTrackingProcessor(beats_per_bar=[3, 4], fps=100)\n",
    "    result = out_processor(in_processor(filename))\n",
    "    return result[np.isclose(result[:, 1], 1.), 0]"
   ]
  },
  {
   "cell_type": "code",
   "execution_count": 81,
   "metadata": {},
   "outputs": [],
   "source": [
    "downbeats_drum = get_downbeats(DRUM_TRACK)\n",
    "downbeats_cello = get_downbeats(CELLO_TRACK)"
   ]
  },
  {
   "cell_type": "code",
   "execution_count": null,
   "metadata": {},
   "outputs": [],
   "source": [
    "# Remove every other drum downbeat to make the track twice as fast\n",
    "# downbeats_drum = downbeats_drum[::2]"
   ]
  },
  {
   "cell_type": "code",
   "execution_count": 82,
   "metadata": {},
   "outputs": [],
   "source": [
    "downbeats_cello = downbeats_cello[:len(downbeats_drum)]"
   ]
  },
  {
   "cell_type": "code",
   "execution_count": 69,
   "metadata": {},
   "outputs": [],
   "source": [
    "def mix_tracks(tracks, weights=None):\n",
    "    max_len = max(len(track) for track in tracks)\n",
    "    tracks = [np.pad(track, (0, max_len - len(track))) for track in tracks]\n",
    "    return np.average(tracks, axis=0, weights=weights)"
   ]
  },
  {
   "cell_type": "code",
   "execution_count": null,
   "metadata": {},
   "outputs": [],
   "source": [
    "def warp(audio, sr, times, target_times):\n",
    "    assert len(target_times) <= len(times)\n",
    "\n",
    "    result = [np.zeros([int(target_times[0] * sr)], np.float32)]\n",
    "\n",
    "    for i in range(len(target_times) - 1):\n",
    "        start = times[i]\n",
    "        end = times[i + 1]\n",
    "        target_start = target_times[i]\n",
    "        target_end = target_times[i + 1]\n",
    "\n",
    "        rate = (end - start) / (target_end - target_start)\n",
    "        y = audio[int(start * sr): int(end * sr)]\n",
    "\n",
    "        y_stretched = librosa.effects.time_stretch(y, rate)\n",
    "        #y_stretched = pyrubberband.pyrb.time_stretch(y, sr=sr_cello, rate=rate)\n",
    "\n",
    "        result.append(y_stretched)\n",
    "\n",
    "    return np.concatenate(result)"
   ]
  },
  {
   "cell_type": "code",
   "execution_count": null,
   "metadata": {},
   "outputs": [],
   "source": [
    "y_drums_warped = warp(y_drum, sr_drum, downbeats_drum[::2], downbeats_cello[:len(downbeats_drum[::2])])\n",
    "output = mix_tracks([y_drums_warped, y_cello], weights=[0.5, 0.5])\n",
    "display.display(display.Audio(output, rate=sr_drum))"
   ]
  },
  {
   "cell_type": "code",
   "execution_count": 87,
   "metadata": {},
   "outputs": [],
   "source": [
    "soundfile.write(f'output_{CELLO_TRACK}_{DRUM_TRACK}_2x.wav', output, sr_drum)"
   ]
  },
  {
   "cell_type": "code",
   "execution_count": null,
   "metadata": {},
   "outputs": [],
   "source": []
  }
 ],
 "metadata": {
  "kernelspec": {
   "display_name": "Python 3",
   "language": "python",
   "name": "python3"
  },
  "language_info": {
   "codemirror_mode": {
    "name": "ipython",
    "version": 3
   },
   "file_extension": ".py",
   "mimetype": "text/x-python",
   "name": "python",
   "nbconvert_exporter": "python",
   "pygments_lexer": "ipython3",
   "version": "3.6.9"
  }
 },
 "nbformat": 4,
 "nbformat_minor": 2
}
